{
  "nbformat": 4,
  "nbformat_minor": 0,
  "metadata": {
    "colab": {
      "provenance": []
    },
    "kernelspec": {
      "name": "python3",
      "display_name": "Python 3"
    },
    "language_info": {
      "name": "python"
    }
  },
  "cells": [
    {
      "cell_type": "markdown",
      "source": [
        "# Hypothesis Testing: Temperature (2009–2013 vs 2020–2024)"
      ],
      "metadata": {
        "id": "Og76IQFwGGht"
      }
    },
    {
      "cell_type": "markdown",
      "source": [
        "### Problem Statement:\n",
        "The primary objective of this study is to examine whether average temperatures in Chennai have significantly increased in recent years, which may indicate local manifestations of climate change. To assess this, we compare two distinct time periods from the dataset:\n",
        "\n",
        "2009–2013 (baseline period)\n",
        "\n",
        "2020–2024 (recent period)\n",
        "\n",
        "By applying a two-sample t-test, we test the hypothesis that the mean temperature in the recent period is higher than that in the baseline period.\n",
        "\n",
        "Null Hypothesis (H₀): The mean temperature during 2020–2024 is equal to the mean temperature during 2009–2013.\n",
        "\n",
        "Alternative Hypothesis (H₁): The mean temperature during 2020–2024 is significantly higher than the mean temperature during 2009–2013.\n",
        "\n",
        "This analysis will help determine if Chennai has experienced a statistically significant warming trend over the last 15 years."
      ],
      "metadata": {
        "id": "37Zil8vVGMGw"
      }
    },
    {
      "cell_type": "code",
      "source": [
        "import pandas as pd\n",
        "import matplotlib.pyplot as plt\n",
        "import seaborn as sns\n",
        "from wordcloud import WordCloud\n",
        "from scipy.stats import ttest_ind"
      ],
      "metadata": {
        "id": "ztEQ08drGWEP"
      },
      "execution_count": 1,
      "outputs": []
    },
    {
      "cell_type": "code",
      "source": [
        "df = pd.read_csv(\"/Clean15YearChennaiWeather.csv\")\n",
        "df.head()"
      ],
      "metadata": {
        "colab": {
          "base_uri": "https://localhost:8080/",
          "height": 206
        },
        "id": "01z4_l13GaLz",
        "outputId": "8876e5eb-e62f-441c-e88e-cf2471d5dd05"
      },
      "execution_count": 2,
      "outputs": [
        {
          "output_type": "execute_result",
          "data": {
            "text/plain": [
              "                                 date       date_id  wind  \\\n",
              "0  Sunday 14 July 2024, 18.00 — 00.00  1.720980e+12   9.0   \n",
              "1  Monday 15 July 2024, 00.00 — 06.00  1.721002e+12  14.0   \n",
              "2  Monday 15 July 2024, 06.00 — 12.00  1.721023e+12  17.0   \n",
              "3  Monday 15 July 2024, 12.00 — 18.00  1.721045e+12  13.0   \n",
              "4  Monday 15 July 2024, 18.00 — 00.00  1.721066e+12  19.0   \n",
              "\n",
              "                      desc  temp    baro  hum         day  month  day_date  \\\n",
              "0            Drizzle. Fog.  30.0  1003.0   82  2024-07-14      7        14   \n",
              "1                     Fog.  29.0  1002.0   80  2024-07-15      7        15   \n",
              "2  Drizzle. Broken clouds.  29.0  1003.0   82  2024-07-15      7        15   \n",
              "3  Drizzle. Broken clouds.  29.0  1001.0   85  2024-07-15      7        15   \n",
              "4                     Fog.  29.0  1002.0   84  2024-07-15      7        15   \n",
              "\n",
              "   year  day_name Start_hour End_hour  \n",
              "0  2024         6      18:00    00:00  \n",
              "1  2024         0      00:00    06:00  \n",
              "2  2024         0      06:00    12:00  \n",
              "3  2024         0      12:00    18:00  \n",
              "4  2024         0      18:00    00:00  "
            ],
            "text/html": [
              "\n",
              "  <div id=\"df-249763a8-4c71-40f7-bb7b-bfb366f846ef\" class=\"colab-df-container\">\n",
              "    <div>\n",
              "<style scoped>\n",
              "    .dataframe tbody tr th:only-of-type {\n",
              "        vertical-align: middle;\n",
              "    }\n",
              "\n",
              "    .dataframe tbody tr th {\n",
              "        vertical-align: top;\n",
              "    }\n",
              "\n",
              "    .dataframe thead th {\n",
              "        text-align: right;\n",
              "    }\n",
              "</style>\n",
              "<table border=\"1\" class=\"dataframe\">\n",
              "  <thead>\n",
              "    <tr style=\"text-align: right;\">\n",
              "      <th></th>\n",
              "      <th>date</th>\n",
              "      <th>date_id</th>\n",
              "      <th>wind</th>\n",
              "      <th>desc</th>\n",
              "      <th>temp</th>\n",
              "      <th>baro</th>\n",
              "      <th>hum</th>\n",
              "      <th>day</th>\n",
              "      <th>month</th>\n",
              "      <th>day_date</th>\n",
              "      <th>year</th>\n",
              "      <th>day_name</th>\n",
              "      <th>Start_hour</th>\n",
              "      <th>End_hour</th>\n",
              "    </tr>\n",
              "  </thead>\n",
              "  <tbody>\n",
              "    <tr>\n",
              "      <th>0</th>\n",
              "      <td>Sunday 14 July 2024, 18.00 — 00.00</td>\n",
              "      <td>1.720980e+12</td>\n",
              "      <td>9.0</td>\n",
              "      <td>Drizzle. Fog.</td>\n",
              "      <td>30.0</td>\n",
              "      <td>1003.0</td>\n",
              "      <td>82</td>\n",
              "      <td>2024-07-14</td>\n",
              "      <td>7</td>\n",
              "      <td>14</td>\n",
              "      <td>2024</td>\n",
              "      <td>6</td>\n",
              "      <td>18:00</td>\n",
              "      <td>00:00</td>\n",
              "    </tr>\n",
              "    <tr>\n",
              "      <th>1</th>\n",
              "      <td>Monday 15 July 2024, 00.00 — 06.00</td>\n",
              "      <td>1.721002e+12</td>\n",
              "      <td>14.0</td>\n",
              "      <td>Fog.</td>\n",
              "      <td>29.0</td>\n",
              "      <td>1002.0</td>\n",
              "      <td>80</td>\n",
              "      <td>2024-07-15</td>\n",
              "      <td>7</td>\n",
              "      <td>15</td>\n",
              "      <td>2024</td>\n",
              "      <td>0</td>\n",
              "      <td>00:00</td>\n",
              "      <td>06:00</td>\n",
              "    </tr>\n",
              "    <tr>\n",
              "      <th>2</th>\n",
              "      <td>Monday 15 July 2024, 06.00 — 12.00</td>\n",
              "      <td>1.721023e+12</td>\n",
              "      <td>17.0</td>\n",
              "      <td>Drizzle. Broken clouds.</td>\n",
              "      <td>29.0</td>\n",
              "      <td>1003.0</td>\n",
              "      <td>82</td>\n",
              "      <td>2024-07-15</td>\n",
              "      <td>7</td>\n",
              "      <td>15</td>\n",
              "      <td>2024</td>\n",
              "      <td>0</td>\n",
              "      <td>06:00</td>\n",
              "      <td>12:00</td>\n",
              "    </tr>\n",
              "    <tr>\n",
              "      <th>3</th>\n",
              "      <td>Monday 15 July 2024, 12.00 — 18.00</td>\n",
              "      <td>1.721045e+12</td>\n",
              "      <td>13.0</td>\n",
              "      <td>Drizzle. Broken clouds.</td>\n",
              "      <td>29.0</td>\n",
              "      <td>1001.0</td>\n",
              "      <td>85</td>\n",
              "      <td>2024-07-15</td>\n",
              "      <td>7</td>\n",
              "      <td>15</td>\n",
              "      <td>2024</td>\n",
              "      <td>0</td>\n",
              "      <td>12:00</td>\n",
              "      <td>18:00</td>\n",
              "    </tr>\n",
              "    <tr>\n",
              "      <th>4</th>\n",
              "      <td>Monday 15 July 2024, 18.00 — 00.00</td>\n",
              "      <td>1.721066e+12</td>\n",
              "      <td>19.0</td>\n",
              "      <td>Fog.</td>\n",
              "      <td>29.0</td>\n",
              "      <td>1002.0</td>\n",
              "      <td>84</td>\n",
              "      <td>2024-07-15</td>\n",
              "      <td>7</td>\n",
              "      <td>15</td>\n",
              "      <td>2024</td>\n",
              "      <td>0</td>\n",
              "      <td>18:00</td>\n",
              "      <td>00:00</td>\n",
              "    </tr>\n",
              "  </tbody>\n",
              "</table>\n",
              "</div>\n",
              "    <div class=\"colab-df-buttons\">\n",
              "\n",
              "  <div class=\"colab-df-container\">\n",
              "    <button class=\"colab-df-convert\" onclick=\"convertToInteractive('df-249763a8-4c71-40f7-bb7b-bfb366f846ef')\"\n",
              "            title=\"Convert this dataframe to an interactive table.\"\n",
              "            style=\"display:none;\">\n",
              "\n",
              "  <svg xmlns=\"http://www.w3.org/2000/svg\" height=\"24px\" viewBox=\"0 -960 960 960\">\n",
              "    <path d=\"M120-120v-720h720v720H120Zm60-500h600v-160H180v160Zm220 220h160v-160H400v160Zm0 220h160v-160H400v160ZM180-400h160v-160H180v160Zm440 0h160v-160H620v160ZM180-180h160v-160H180v160Zm440 0h160v-160H620v160Z\"/>\n",
              "  </svg>\n",
              "    </button>\n",
              "\n",
              "  <style>\n",
              "    .colab-df-container {\n",
              "      display:flex;\n",
              "      gap: 12px;\n",
              "    }\n",
              "\n",
              "    .colab-df-convert {\n",
              "      background-color: #E8F0FE;\n",
              "      border: none;\n",
              "      border-radius: 50%;\n",
              "      cursor: pointer;\n",
              "      display: none;\n",
              "      fill: #1967D2;\n",
              "      height: 32px;\n",
              "      padding: 0 0 0 0;\n",
              "      width: 32px;\n",
              "    }\n",
              "\n",
              "    .colab-df-convert:hover {\n",
              "      background-color: #E2EBFA;\n",
              "      box-shadow: 0px 1px 2px rgba(60, 64, 67, 0.3), 0px 1px 3px 1px rgba(60, 64, 67, 0.15);\n",
              "      fill: #174EA6;\n",
              "    }\n",
              "\n",
              "    .colab-df-buttons div {\n",
              "      margin-bottom: 4px;\n",
              "    }\n",
              "\n",
              "    [theme=dark] .colab-df-convert {\n",
              "      background-color: #3B4455;\n",
              "      fill: #D2E3FC;\n",
              "    }\n",
              "\n",
              "    [theme=dark] .colab-df-convert:hover {\n",
              "      background-color: #434B5C;\n",
              "      box-shadow: 0px 1px 3px 1px rgba(0, 0, 0, 0.15);\n",
              "      filter: drop-shadow(0px 1px 2px rgba(0, 0, 0, 0.3));\n",
              "      fill: #FFFFFF;\n",
              "    }\n",
              "  </style>\n",
              "\n",
              "    <script>\n",
              "      const buttonEl =\n",
              "        document.querySelector('#df-249763a8-4c71-40f7-bb7b-bfb366f846ef button.colab-df-convert');\n",
              "      buttonEl.style.display =\n",
              "        google.colab.kernel.accessAllowed ? 'block' : 'none';\n",
              "\n",
              "      async function convertToInteractive(key) {\n",
              "        const element = document.querySelector('#df-249763a8-4c71-40f7-bb7b-bfb366f846ef');\n",
              "        const dataTable =\n",
              "          await google.colab.kernel.invokeFunction('convertToInteractive',\n",
              "                                                    [key], {});\n",
              "        if (!dataTable) return;\n",
              "\n",
              "        const docLinkHtml = 'Like what you see? Visit the ' +\n",
              "          '<a target=\"_blank\" href=https://colab.research.google.com/notebooks/data_table.ipynb>data table notebook</a>'\n",
              "          + ' to learn more about interactive tables.';\n",
              "        element.innerHTML = '';\n",
              "        dataTable['output_type'] = 'display_data';\n",
              "        await google.colab.output.renderOutput(dataTable, element);\n",
              "        const docLink = document.createElement('div');\n",
              "        docLink.innerHTML = docLinkHtml;\n",
              "        element.appendChild(docLink);\n",
              "      }\n",
              "    </script>\n",
              "  </div>\n",
              "\n",
              "\n",
              "    <div id=\"df-ba11d5d6-f76b-4c8c-90ec-cab2751c8206\">\n",
              "      <button class=\"colab-df-quickchart\" onclick=\"quickchart('df-ba11d5d6-f76b-4c8c-90ec-cab2751c8206')\"\n",
              "                title=\"Suggest charts\"\n",
              "                style=\"display:none;\">\n",
              "\n",
              "<svg xmlns=\"http://www.w3.org/2000/svg\" height=\"24px\"viewBox=\"0 0 24 24\"\n",
              "     width=\"24px\">\n",
              "    <g>\n",
              "        <path d=\"M19 3H5c-1.1 0-2 .9-2 2v14c0 1.1.9 2 2 2h14c1.1 0 2-.9 2-2V5c0-1.1-.9-2-2-2zM9 17H7v-7h2v7zm4 0h-2V7h2v10zm4 0h-2v-4h2v4z\"/>\n",
              "    </g>\n",
              "</svg>\n",
              "      </button>\n",
              "\n",
              "<style>\n",
              "  .colab-df-quickchart {\n",
              "      --bg-color: #E8F0FE;\n",
              "      --fill-color: #1967D2;\n",
              "      --hover-bg-color: #E2EBFA;\n",
              "      --hover-fill-color: #174EA6;\n",
              "      --disabled-fill-color: #AAA;\n",
              "      --disabled-bg-color: #DDD;\n",
              "  }\n",
              "\n",
              "  [theme=dark] .colab-df-quickchart {\n",
              "      --bg-color: #3B4455;\n",
              "      --fill-color: #D2E3FC;\n",
              "      --hover-bg-color: #434B5C;\n",
              "      --hover-fill-color: #FFFFFF;\n",
              "      --disabled-bg-color: #3B4455;\n",
              "      --disabled-fill-color: #666;\n",
              "  }\n",
              "\n",
              "  .colab-df-quickchart {\n",
              "    background-color: var(--bg-color);\n",
              "    border: none;\n",
              "    border-radius: 50%;\n",
              "    cursor: pointer;\n",
              "    display: none;\n",
              "    fill: var(--fill-color);\n",
              "    height: 32px;\n",
              "    padding: 0;\n",
              "    width: 32px;\n",
              "  }\n",
              "\n",
              "  .colab-df-quickchart:hover {\n",
              "    background-color: var(--hover-bg-color);\n",
              "    box-shadow: 0 1px 2px rgba(60, 64, 67, 0.3), 0 1px 3px 1px rgba(60, 64, 67, 0.15);\n",
              "    fill: var(--button-hover-fill-color);\n",
              "  }\n",
              "\n",
              "  .colab-df-quickchart-complete:disabled,\n",
              "  .colab-df-quickchart-complete:disabled:hover {\n",
              "    background-color: var(--disabled-bg-color);\n",
              "    fill: var(--disabled-fill-color);\n",
              "    box-shadow: none;\n",
              "  }\n",
              "\n",
              "  .colab-df-spinner {\n",
              "    border: 2px solid var(--fill-color);\n",
              "    border-color: transparent;\n",
              "    border-bottom-color: var(--fill-color);\n",
              "    animation:\n",
              "      spin 1s steps(1) infinite;\n",
              "  }\n",
              "\n",
              "  @keyframes spin {\n",
              "    0% {\n",
              "      border-color: transparent;\n",
              "      border-bottom-color: var(--fill-color);\n",
              "      border-left-color: var(--fill-color);\n",
              "    }\n",
              "    20% {\n",
              "      border-color: transparent;\n",
              "      border-left-color: var(--fill-color);\n",
              "      border-top-color: var(--fill-color);\n",
              "    }\n",
              "    30% {\n",
              "      border-color: transparent;\n",
              "      border-left-color: var(--fill-color);\n",
              "      border-top-color: var(--fill-color);\n",
              "      border-right-color: var(--fill-color);\n",
              "    }\n",
              "    40% {\n",
              "      border-color: transparent;\n",
              "      border-right-color: var(--fill-color);\n",
              "      border-top-color: var(--fill-color);\n",
              "    }\n",
              "    60% {\n",
              "      border-color: transparent;\n",
              "      border-right-color: var(--fill-color);\n",
              "    }\n",
              "    80% {\n",
              "      border-color: transparent;\n",
              "      border-right-color: var(--fill-color);\n",
              "      border-bottom-color: var(--fill-color);\n",
              "    }\n",
              "    90% {\n",
              "      border-color: transparent;\n",
              "      border-bottom-color: var(--fill-color);\n",
              "    }\n",
              "  }\n",
              "</style>\n",
              "\n",
              "      <script>\n",
              "        async function quickchart(key) {\n",
              "          const quickchartButtonEl =\n",
              "            document.querySelector('#' + key + ' button');\n",
              "          quickchartButtonEl.disabled = true;  // To prevent multiple clicks.\n",
              "          quickchartButtonEl.classList.add('colab-df-spinner');\n",
              "          try {\n",
              "            const charts = await google.colab.kernel.invokeFunction(\n",
              "                'suggestCharts', [key], {});\n",
              "          } catch (error) {\n",
              "            console.error('Error during call to suggestCharts:', error);\n",
              "          }\n",
              "          quickchartButtonEl.classList.remove('colab-df-spinner');\n",
              "          quickchartButtonEl.classList.add('colab-df-quickchart-complete');\n",
              "        }\n",
              "        (() => {\n",
              "          let quickchartButtonEl =\n",
              "            document.querySelector('#df-ba11d5d6-f76b-4c8c-90ec-cab2751c8206 button');\n",
              "          quickchartButtonEl.style.display =\n",
              "            google.colab.kernel.accessAllowed ? 'block' : 'none';\n",
              "        })();\n",
              "      </script>\n",
              "    </div>\n",
              "\n",
              "    </div>\n",
              "  </div>\n"
            ],
            "application/vnd.google.colaboratory.intrinsic+json": {
              "type": "dataframe",
              "variable_name": "df",
              "summary": "{\n  \"name\": \"df\",\n  \"rows\": 1068,\n  \"fields\": [\n    {\n      \"column\": \"date\",\n      \"properties\": {\n        \"dtype\": \"string\",\n        \"num_unique_values\": 641,\n        \"samples\": [\n          \"Tuesday 15 September 2009, 06.00 \\u2014 12.00\",\n          \"Sunday 8 November 2009, 18.00 \\u2014 00.00\",\n          \"Friday 11 December 2009, 06.00 \\u2014 12.00\"\n        ],\n        \"semantic_type\": \"\",\n        \"description\": \"\"\n      }\n    },\n    {\n      \"column\": \"date_id\",\n      \"properties\": {\n        \"dtype\": \"number\",\n        \"std\": 230723411397.3875,\n        \"min\": 1252454400000.0,\n        \"max\": 1722276000000.0,\n        \"num_unique_values\": 641,\n        \"samples\": [\n          1252994400000.0,\n          1257703200000.0,\n          1260511200000.0\n        ],\n        \"semantic_type\": \"\",\n        \"description\": \"\"\n      }\n    },\n    {\n      \"column\": \"wind\",\n      \"properties\": {\n        \"dtype\": \"number\",\n        \"std\": 6.9478847757863855,\n        \"min\": 0.0,\n        \"max\": 22.0,\n        \"num_unique_values\": 23,\n        \"samples\": [\n          7.0,\n          12.0,\n          9.0\n        ],\n        \"semantic_type\": \"\",\n        \"description\": \"\"\n      }\n    },\n    {\n      \"column\": \"desc\",\n      \"properties\": {\n        \"dtype\": \"category\",\n        \"num_unique_values\": 29,\n        \"samples\": [\n          \"Light rain. Overcast.\",\n          \"Thunderstorms. Broken clouds.\",\n          \"Thundershowers. Partly cloudy.\"\n        ],\n        \"semantic_type\": \"\",\n        \"description\": \"\"\n      }\n    },\n    {\n      \"column\": \"temp\",\n      \"properties\": {\n        \"dtype\": \"number\",\n        \"std\": 3.5427700350514804,\n        \"min\": 21.0,\n        \"max\": 38.0,\n        \"num_unique_values\": 18,\n        \"samples\": [\n          30.0,\n          29.0,\n          36.0\n        ],\n        \"semantic_type\": \"\",\n        \"description\": \"\"\n      }\n    },\n    {\n      \"column\": \"baro\",\n      \"properties\": {\n        \"dtype\": \"number\",\n        \"std\": 166.91499577714018,\n        \"min\": 0.0,\n        \"max\": 1019.0,\n        \"num_unique_values\": 25,\n        \"samples\": [\n          0.0,\n          1013.0,\n          1003.0\n        ],\n        \"semantic_type\": \"\",\n        \"description\": \"\"\n      }\n    },\n    {\n      \"column\": \"hum\",\n      \"properties\": {\n        \"dtype\": \"number\",\n        \"std\": 17,\n        \"min\": 0,\n        \"max\": 100,\n        \"num_unique_values\": 62,\n        \"samples\": [\n          47,\n          97,\n          82\n        ],\n        \"semantic_type\": \"\",\n        \"description\": \"\"\n      }\n    },\n    {\n      \"column\": \"day\",\n      \"properties\": {\n        \"dtype\": \"object\",\n        \"num_unique_values\": 161,\n        \"samples\": [\n          \"2009-12-07\",\n          \"2009-12-10\",\n          \"2010-01-13\"\n        ],\n        \"semantic_type\": \"\",\n        \"description\": \"\"\n      }\n    },\n    {\n      \"column\": \"month\",\n      \"properties\": {\n        \"dtype\": \"number\",\n        \"std\": 3,\n        \"min\": 1,\n        \"max\": 12,\n        \"num_unique_values\": 6,\n        \"samples\": [\n          7,\n          9,\n          1\n        ],\n        \"semantic_type\": \"\",\n        \"description\": \"\"\n      }\n    },\n    {\n      \"column\": \"day_date\",\n      \"properties\": {\n        \"dtype\": \"number\",\n        \"std\": 7,\n        \"min\": 1,\n        \"max\": 31,\n        \"num_unique_values\": 31,\n        \"samples\": [\n          6,\n          29,\n          2\n        ],\n        \"semantic_type\": \"\",\n        \"description\": \"\"\n      }\n    },\n    {\n      \"column\": \"year\",\n      \"properties\": {\n        \"dtype\": \"number\",\n        \"std\": 7,\n        \"min\": 2009,\n        \"max\": 2024,\n        \"num_unique_values\": 3,\n        \"samples\": [\n          2024,\n          2009,\n          2010\n        ],\n        \"semantic_type\": \"\",\n        \"description\": \"\"\n      }\n    },\n    {\n      \"column\": \"day_name\",\n      \"properties\": {\n        \"dtype\": \"number\",\n        \"std\": 2,\n        \"min\": 0,\n        \"max\": 6,\n        \"num_unique_values\": 7,\n        \"samples\": [\n          6,\n          0,\n          4\n        ],\n        \"semantic_type\": \"\",\n        \"description\": \"\"\n      }\n    },\n    {\n      \"column\": \"Start_hour\",\n      \"properties\": {\n        \"dtype\": \"object\",\n        \"num_unique_values\": 4,\n        \"samples\": [\n          \"00:00\",\n          \"12:00\",\n          \"18:00\"\n        ],\n        \"semantic_type\": \"\",\n        \"description\": \"\"\n      }\n    },\n    {\n      \"column\": \"End_hour\",\n      \"properties\": {\n        \"dtype\": \"object\",\n        \"num_unique_values\": 4,\n        \"samples\": [\n          \"06:00\",\n          \"18:00\",\n          \"00:00\"\n        ],\n        \"semantic_type\": \"\",\n        \"description\": \"\"\n      }\n    }\n  ]\n}"
            }
          },
          "metadata": {},
          "execution_count": 2
        }
      ]
    },
    {
      "cell_type": "code",
      "execution_count": 3,
      "metadata": {
        "colab": {
          "base_uri": "https://localhost:8080/"
        },
        "id": "NoNiYY1LF_47",
        "outputId": "0fb5c743-5e98-431a-8de7-d5a8f2b9dd61"
      },
      "outputs": [
        {
          "output_type": "stream",
          "name": "stdout",
          "text": [
            "T-statistic: nan\n",
            "P-value: nan\n",
            "Fail to reject H₀: No significant temperature increase detected.\n"
          ]
        }
      ],
      "source": [
        "early = df[(df['year'] >= 2009) & (df['year'] <= 2013)]['temp']\n",
        "recent = df[(df['year'] >= 2020) & (df['year'] <= 2024)]['temp']\n",
        "\n",
        "#one-sided t-test\n",
        "t_stat, p_val = ttest_ind(recent, early, equal_var=False)\n",
        "\n",
        "print(\"T-statistic:\", t_stat)\n",
        "print(\"P-value:\", p_val/2)\n",
        "\n",
        "if p_val/2 < 0.05 and t_stat > 0:\n",
        "    print(\"Reject H₀: Avg temperature has increased significantly.\")\n",
        "else:\n",
        "    print(\"Fail to reject H₀: No significant temperature increase detected.\")\n"
      ]
    },
    {
      "cell_type": "markdown",
      "source": [
        "### Conclusion:\n",
        "\n",
        "The statistical hypothesis test to compare mean temperatures between 2009–2013 and 2020–2024 returned undefined results (NaN for both T-statistic and p-value). This indicates insufficient or non-variable data in one or both time periods, making it impossible to conduct a valid test. Therefore, we cannot draw any statistically significant conclusion regarding temperature increase between these periods from the available dataset."
      ],
      "metadata": {
        "id": "vpuMEEvgG7ho"
      }
    },
    {
      "cell_type": "markdown",
      "source": [
        "# Seasonal Variation in Humidity (ANOVA)"
      ],
      "metadata": {
        "id": "t5Psm1HeGy3-"
      }
    },
    {
      "cell_type": "markdown",
      "source": [
        "The second objective is to analyze whether humidity levels differ significantly across seasons in Chennai. The dataset is categorized into three seasons:\n",
        "\n",
        "Summer (March–June)\n",
        "\n",
        "Monsoon (July–November)\n",
        "\n",
        "Winter (December–February)\n",
        "\n",
        "A one-way ANOVA test is conducted to test the hypotheses:\n",
        "\n",
        "Null Hypothesis (H₀): Mean humidity is the same across all three seasons.\n",
        "\n",
        "Alternative Hypothesis (H₁): At least one season’s mean humidity is significantly different from the others.\n",
        "\n",
        "This analysis helps confirm whether Chennai’s climate exhibits strong seasonal variation in humidity."
      ],
      "metadata": {
        "id": "wuwpDMU-G2yh"
      }
    },
    {
      "cell_type": "code",
      "source": [
        "def season(month):\n",
        "    if month in [3,4,5,6]:\n",
        "        return \"Summer\"\n",
        "    elif month in [7,8,9,10,11]:\n",
        "        return \"Monsoon\"\n",
        "    else:\n",
        "        return \"Winter\"\n",
        "\n",
        "df['season'] = df['month'].apply(season)\n",
        "\n",
        "season_avg = df.groupby('season')[['temp','hum','wind','baro']].mean()\n",
        "print(season_avg)\n",
        "\n",
        "monsoon_weather = df[df['season']==\"Monsoon\"]['desc'].value_counts().head(10)\n",
        "print(monsoon_weather)"
      ],
      "metadata": {
        "colab": {
          "base_uri": "https://localhost:8080/"
        },
        "id": "tJzE8syKHMky",
        "outputId": "7420fa8e-9f31-4f4a-a89e-62fc5b9ae77d"
      },
      "execution_count": 5,
      "outputs": [
        {
          "output_type": "stream",
          "name": "stdout",
          "text": [
            "              temp        hum       wind         baro\n",
            "season                                               \n",
            "Monsoon  31.503797  69.745122  12.474390   967.882927\n",
            "Winter   26.524194  82.657258   8.528226  1013.975806\n",
            "desc\n",
            "Broken clouds.               196\n",
            "Passing clouds.              145\n",
            "Partly cloudy.               128\n",
            "Fog.                         122\n",
            "Scattered clouds.             99\n",
            "No weather data available     30\n",
            "Drizzle. Fog.                 24\n",
            "Drizzle. Broken clouds.       19\n",
            "Haze.                         19\n",
            "Partly sunny.                  9\n",
            "Name: count, dtype: int64\n"
          ]
        }
      ]
    },
    {
      "cell_type": "code",
      "source": [
        "summer = df[df['season']==\"Summer\"]['hum']\n",
        "monsoon = df[df['season']==\"Monsoon\"]['hum']\n",
        "winter = df[df['season']==\"Winter\"]['hum']\n",
        "\n",
        "f_stat, p_val = f_oneway(summer, monsoon, winter)\n",
        "print(\"F-statistic:\", f_stat)\n",
        "print(\"P-value:\", p_val)\n",
        "\n",
        "if p_val < 0.05:\n",
        "    print(\"Reject H₀: Humidity differs significantly across seasons.\")\n",
        "else:\n",
        "    print(\"Fail to reject H₀: No significant seasonal difference in humidity.\")\n"
      ],
      "metadata": {
        "colab": {
          "base_uri": "https://localhost:8080/"
        },
        "id": "pZfHFjw2Gzng",
        "outputId": "bfdd34a1-c5d7-4f04-dc01-f5a8a9f642c5"
      },
      "execution_count": 6,
      "outputs": [
        {
          "output_type": "stream",
          "name": "stdout",
          "text": [
            "F-statistic: nan\n",
            "P-value: nan\n",
            "Fail to reject H₀: No significant seasonal difference in humidity.\n"
          ]
        },
        {
          "output_type": "stream",
          "name": "stderr",
          "text": [
            "/tmp/ipython-input-1747748188.py:5: SmallSampleWarning: One or more sample arguments is too small; all returned values will be NaN. See documentation for sample size requirements.\n",
            "  f_stat, p_val = f_oneway(summer, monsoon, winter)\n"
          ]
        }
      ]
    },
    {
      "cell_type": "markdown",
      "source": [
        "### Conclusion\n",
        "The ANOVA test to compare humidity across Summer, Monsoon, and Winter seasons could not be performed due to insufficient sample sizes in one or more groups. As a result, the test returned undefined values (NaN for both F-statistic and p-value). Therefore, no statistically valid conclusion can be drawn about seasonal differences in humidity from the current dataset."
      ],
      "metadata": {
        "id": "Pl-Mp7a_HXd7"
      }
    },
    {
      "cell_type": "markdown",
      "source": [
        "# Relationship Between Pressure and Rainfall Events (Correlation)"
      ],
      "metadata": {
        "id": "qBCUl3xQHaDT"
      }
    },
    {
      "cell_type": "markdown",
      "source": [
        "### Problem Statement:\n",
        "The third objective is to determine whether barometric pressure is associated with rainfall events in Chennai. Lower atmospheric pressure is often a precursor to rainfall and cyclonic activity in coastal regions.\n",
        "\n",
        "To test this, the dataset is split into two groups:\n",
        "\n",
        "Rain days (when the weather description includes “Rain” or “Drizzle”)\n",
        "\n",
        "Non-rain days\n",
        "\n",
        "A correlation analysis is performed to test the hypotheses:\n",
        "\n",
        "Null Hypothesis (H₀): There is no significant relationship between barometric pressure and rainfall occurrence.\n",
        "\n",
        "Alternative Hypothesis (H₁): Lower barometric pressure is significantly associated with rainfall events."
      ],
      "metadata": {
        "id": "dpAMjnULIA2G"
      }
    },
    {
      "cell_type": "code",
      "source": [
        "\n",
        "df_clean = df[(df['baro'] >= 900) & (df['baro'] <= 1050)]\n",
        "\n",
        "print(\"Before cleaning:\", len(df))\n",
        "print(\"After cleaning:\", len(df_clean))"
      ],
      "metadata": {
        "colab": {
          "base_uri": "https://localhost:8080/"
        },
        "id": "HQttYbapHICH",
        "outputId": "9eec934e-87b0-449c-f2bd-0a5e6d4fb6c1"
      },
      "execution_count": 8,
      "outputs": [
        {
          "output_type": "stream",
          "name": "stdout",
          "text": [
            "Before cleaning: 1068\n",
            "After cleaning: 1036\n"
          ]
        }
      ]
    },
    {
      "cell_type": "code",
      "source": [
        "corr = df_clean[['baro', 'rain_event']].corr()\n",
        "print(\"Correlation after cleaning:\\n\", corr)\n",
        "\n",
        "plt.figure(figsize=(6,4))\n",
        "sns.boxplot(x='rain_event', y='baro', data=df_clean)\n",
        "plt.xticks([0,1], ['No Rain','Rain'])\n",
        "plt.title(\"Pressure vs Rain Events (Cleaned Data)\")\n",
        "plt.show()"
      ],
      "metadata": {
        "colab": {
          "base_uri": "https://localhost:8080/",
          "height": 481
        },
        "id": "3qqXO7Y4IIUM",
        "outputId": "2fcfbbc1-0d22-4c60-8658-f74cbfddc11e"
      },
      "execution_count": 9,
      "outputs": [
        {
          "output_type": "stream",
          "name": "stdout",
          "text": [
            "Correlation after cleaning:\n",
            "                 baro  rain_event\n",
            "baro        1.000000   -0.076005\n",
            "rain_event -0.076005    1.000000\n"
          ]
        },
        {
          "output_type": "display_data",
          "data": {
            "text/plain": [
              "<Figure size 600x400 with 1 Axes>"
            ],
            "image/png": "[encoded data removed]"
          },
          "metadata": {}
        }
      ]
    },
    {
      "cell_type": "code",
      "source": [
        "rain = df_clean[df_clean['rain_event']==1]['baro']\n",
        "no_rain = df_clean[df_clean['rain_event']==0]['baro']\n",
        "\n",
        "t_stat, p_val = ttest_ind(rain, no_rain, equal_var=False)\n",
        "\n",
        "print(f\"T-statistic: {t_stat}\")\n",
        "print(f\"P-value: {p_val}\")\n",
        "if p_val < 0.05:\n",
        "    print(\"Reject H₀: Pressure differs significantly between Rain and No Rain days\")\n",
        "else:\n",
        "    print(\"Fail to reject H₀: No significant pressure difference\")\n"
      ],
      "metadata": {
        "colab": {
          "base_uri": "https://localhost:8080/"
        },
        "id": "YGPlxk2mIkGU",
        "outputId": "f449cffc-a436-44cf-aac2-6042c61a1679"
      },
      "execution_count": 10,
      "outputs": [
        {
          "output_type": "stream",
          "name": "stdout",
          "text": [
            "T-statistic: -3.113981893313078\n",
            "P-value: 0.0025960440230949127\n",
            "Reject H₀: Pressure differs significantly between Rain and No Rain days\n"
          ]
        }
      ]
    },
    {
      "cell_type": "markdown",
      "source": [
        "### Conclusion\n",
        "After removing unrealistic pressure values, the analysis shows that barometric pressure is significantly lower on rain days compared to no-rain days (p < 0.05). Although the correlation is weak (-0.076), the statistical test confirms that the difference is not due to random chance. This supports the well-known meteorological principle that falling pressure often precedes rainfall."
      ],
      "metadata": {
        "id": "0pMWFeNsIyKY"
      }
    }
  ]
}